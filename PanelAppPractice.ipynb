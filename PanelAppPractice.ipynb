{
 "cells": [
  {
   "cell_type": "code",
   "execution_count": 9,
   "metadata": {},
   "outputs": [],
   "source": [
    "import panel as pn, pandas as pd, matplotlib, bokeh, holoviews as hv, numpy as np\n",
    "import panel.widgets as pnw\n",
    "import hvplot.pandas"
   ]
  },
  {
   "cell_type": "code",
   "execution_count": 50,
   "metadata": {},
   "outputs": [],
   "source": [
    "df = pd.read_csv('covid_impact_on_airport_traffic.csv')\n",
    "df['Date'] = df.Date.astype('datetime64[ns]')\n",
    "df_full = df[['Date','AirportName','PercentOfBaseline', 'City', 'State', 'Centroid']].copy()\n",
    "#df = df_full[df_full['AirportName'].isin(['Seattle-Tacoma International ', 'Newark Liberty International ','LaGuardia', 'John F. Kennedy International'])].copy()\n",
    "dfp = pd.pivot(data=df, index='Date', columns='AirportName', values='PercentOfBaseline')"
   ]
  },
  {
   "cell_type": "code",
   "execution_count": 6,
   "metadata": {},
   "outputs": [],
   "source": [
    "def mplot(avg):\n",
    "    ax = Figure().add_subplot()\n",
    "    avg.plot(ax=ax)\n",
    "    return ax.figure\n",
    "\n",
    "def fn(airport='Seattle-Tacoma International ', days=30, view_fn=mplot ):\n",
    "    avg = dfp[airport].rolling(window=days).mean()\n",
    "    return view_fn(avg)"
   ]
  },
  {
   "cell_type": "code",
   "execution_count": 7,
   "metadata": {},
   "outputs": [],
   "source": [
    "hover = hv.streams.PointerX(x=dfp\n",
    "                            .index.min())\n",
    "\n",
    "def hvplot(avg, highlight):\n",
    "    return avg.hvplot(height=200) * highlight.hvplot.scatter(color='orange', padding=0.1)\n",
    "\n",
    "def hlplot2(avg):\n",
    "    line = avg.hvplot(responsive=True, height=300, legend=False)\n",
    "    hover.source = line\n",
    "    return line\n",
    "\n",
    "def table(x):\n",
    "    index = np.abs((dfp.index - x).astype(int)).argmin()\n",
    "    return dfp.iloc[index]"
   ]
  },
  {
   "cell_type": "code",
   "execution_count": 58,
   "metadata": {},
   "outputs": [],
   "source": [
    "title = \"## Airport Traffic Compared to Pre-Covid Levels\"\n",
    "description = \"Each day, the value of the air traffic is listed as a prorportion of the traffic from the same day of the week pre-Covid. \\\n",
    "The averages are then calculated based on the time window selected below.\"\n",
    "\n",
    "ap = pnw.Select(name='Airport', value='Seattle-Tacoma International ', \n",
    "                             options=list(dfp.columns), size=1, width=250)\n",
    "days = pnw.IntSlider(name='Rolling Average Window', value=30, start=1, end=90,\n",
    "                         sizing_mode='stretch_width')\n",
    "\n",
    "contents = pn.Row(\n",
    "    pn.Column(description, ap, days, width=260),\n",
    "    pn.bind(fn, ap, days, hlplot2),\n",
    "    pn.panel(pn.bind(table, hover.param.x)),\n",
    "    width_policy='max')\n",
    "\n",
    "app = pn.Column(\n",
    "       title, \n",
    "       contents,\n",
    "       width_policy='max')"
   ]
  },
  {
   "cell_type": "code",
   "execution_count": 60,
   "metadata": {},
   "outputs": [],
   "source": [
    "#app.show()"
   ]
  },
  {
   "cell_type": "code",
   "execution_count": null,
   "metadata": {},
   "outputs": [],
   "source": [
    "app.servable('Airport Traffic Changes');"
   ]
  },
  {
   "cell_type": "code",
   "execution_count": 29,
   "metadata": {},
   "outputs": [],
   "source": [
    "#template = pn.template.MaterialTemplate(title='Airport Traffic Compared to Pre-Covid Levels')\n",
    "#template.sidebar.extend([description, ap, days])\n",
    "#template.main.append(contents)"
   ]
  },
  {
   "cell_type": "code",
   "execution_count": 30,
   "metadata": {},
   "outputs": [
    {
     "name": "stdout",
     "output_type": "stream",
     "text": [
      "Launching server at http://localhost:56911\n"
     ]
    },
    {
     "data": {
      "text/plain": [
       "<bokeh.server.server.Server at 0x14367a5f788>"
      ]
     },
     "execution_count": 30,
     "metadata": {},
     "output_type": "execute_result"
    }
   ],
   "source": [
    "#template.show()"
   ]
  }
 ],
 "metadata": {
  "kernelspec": {
   "display_name": "Python 3",
   "language": "python",
   "name": "python3"
  },
  "language_info": {
   "codemirror_mode": {
    "name": "ipython",
    "version": 3
   },
   "file_extension": ".py",
   "mimetype": "text/x-python",
   "name": "python",
   "nbconvert_exporter": "python",
   "pygments_lexer": "ipython3",
   "version": "3.7.8"
  }
 },
 "nbformat": 4,
 "nbformat_minor": 4
}
